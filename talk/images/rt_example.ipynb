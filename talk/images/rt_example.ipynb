{
 "cells": [
  {
   "cell_type": "code",
   "execution_count": null,
   "id": "7ed6d8d2-017b-4904-b9d0-1c401943a986",
   "metadata": {},
   "outputs": [],
   "source": []
  },
  {
   "cell_type": "markdown",
   "id": "ce1c6676-bc10-43fd-a724-deb0c38ce52a",
   "metadata": {},
   "source": [
    "Based on Jeanette's email:\n",
    "\n",
    "The goal is to show how complex RT tangles itself into the analysis if it isn't removed at the time series level with cartoony 2 point examples.  This can motivate why showing a real data example is challenging other than taking comfort in the fact that removing the confound should avoid these potential issues from arising.\n",
    "0. Start with your guitar/brain association example that you already have.  Maybe add the jumping guy's bandmate who is equally good (I call him Fred later on).  This will help in the examples.  If that woman had a guitar, use her :D \n",
    "1. Start with a simple example of a confound and why we'd never omit a confound from the analysis. \n",
    "2. Introduce the duration/amplitude confound in the BOLD signal.  It may pay off later if you also establish that if you model trial duration as 1s and the neural amplitude is truly 1, the estimated BOLD is equal to the RT (you can use this later in some cartoon examples).  There's a figure in the paper you can use.  The reason is you're going to estimate BOLD activation on the fly later and this simply equates it to RT, which makes the examples easy.\n",
    "3. Motivate that anything that impacts duration can be a problem in this setting, but you're focusing on RTs.  Maybe mention an example that Elizabeth brought up.\n",
    "4. What happens if you ignore RTs in the time series analysis?  Lots of bad things!\n",
    "\n",
    "- We already knew from Grinband that the stroop effect is diminished if you adjust for RTs, drawing attention to the fact that when we ignore RTs we cannot know if the signal we see is duration or amplitude driven.  Maybe just briefly mention this."
   ]
  },
  {
   "cell_type": "code",
   "execution_count": null,
   "id": "6d66887d-27b4-4bb2-b67d-e3aeacb3dd74",
   "metadata": {},
   "outputs": [],
   "source": []
  },
  {
   "cell_type": "markdown",
   "id": "769c7f30-b690-4d26-bf53-2892aaa9d373",
   "metadata": {},
   "source": [
    "- What about brain behavior associations?  Can you make a cartoon example that parallels your guitar/harp example? Plot brain vs harp activation vs RT differences where the two points are you and that jumping psychologist.  When you set up this example, make sure you hone in on that you're assuming you and the jumping guy both have equal brain activation magnitudes.  Here's my scribble.  It probably isn't clear, but all the boxcars are the same height (1), but the durations differ between you and the jumper.  Revisit the earlier relationship that you can assume that the model you're using gives BOLD activation estimates equal to the RTs.  Actually, maybe just a single trial of each (instead of 2 of each) would be better?\n",
    "![](jeanette1.png)"
   ]
  },
  {
   "cell_type": "code",
   "execution_count": null,
   "id": "8e4e11c0-ed17-4ae8-b0d4-ae92ede115e0",
   "metadata": {},
   "outputs": [],
   "source": []
  },
  {
   "cell_type": "markdown",
   "id": "69945714-38d2-4f6c-b298-b967bb2e7940",
   "metadata": {},
   "source": [
    "- This step is going to be important because it, I believe cleanly, shows how tangled up RT can be and how difficult it would be to have a very simple real data example.  Return to the previous example, but maybe switch it up to jumping guy and prince.  Or maybe jumping guy and his buddy playing guitar (goal is equal RT differences).  I'll call the other guy \"Fred\".  Fred has the same RT difference, but his BOLD activation is larger (equally) for both guitars and harps.  Maybe because he's more excited by instruments or something.  For easy math, make it twice as large.  Take a moment to make it crystal clear that in both cases the true activation magnitude differences between these guitarists is the same and isn't at all related to how much they like instruments.  \n",
    "\n",
    "![](jeanette2.png)"
   ]
  },
  {
   "cell_type": "code",
   "execution_count": null,
   "id": "e922e855-a60f-4ccf-a6ce-907fff5f143f",
   "metadata": {},
   "outputs": [],
   "source": []
  },
  {
   "cell_type": "markdown",
   "id": "43d74f22-a724-4e6d-92b9-6ce3bfe4e7de",
   "metadata": {},
   "source": [
    "Now, the RT differences are equal!  \n",
    "RTdiff = .75\n",
    "BOLD diff = 2*.75 = 1.5 for Fred\n",
    "                              = .75 for jumping guy\n",
    "\n",
    "Then plot BOLD difference against \"liking of instruments\".  BOOM!  Artificial effect!  What's great about this example is it also makes it clear that modeling RT at the group level won't fix a thing, because the RT differences are the same!  Actually, the RTs are the same.  Pretty cool.\n",
    "\n",
    "Reflect the complexity of the way RT weaves itself and other variables into the analysis and then use that as a reason why it is hard to have a real data example without knowing the ground truth, but it is clear that there is a problem and we have a simple solution, which is to take RT out of the picture before it tangles itself into our  higher level analyses.\n",
    "\n",
    "5. But, if you use our model, all of these problems are solved.\n",
    "\n",
    "6. By the way, you're not throwing anything away, effects are often still present.\n",
    "\n",
    "What do you think?"
   ]
  },
  {
   "cell_type": "code",
   "execution_count": null,
   "id": "5bc18e39-439f-4f85-be98-8e496215e79c",
   "metadata": {},
   "outputs": [],
   "source": []
  }
 ],
 "metadata": {
  "kernelspec": {
   "display_name": "Python 3 (ipykernel)",
   "language": "python",
   "name": "python3"
  },
  "language_info": {
   "codemirror_mode": {
    "name": "ipython",
    "version": 3
   },
   "file_extension": ".py",
   "mimetype": "text/x-python",
   "name": "python",
   "nbconvert_exporter": "python",
   "pygments_lexer": "ipython3",
   "version": "3.9.15"
  }
 },
 "nbformat": 4,
 "nbformat_minor": 5
}
